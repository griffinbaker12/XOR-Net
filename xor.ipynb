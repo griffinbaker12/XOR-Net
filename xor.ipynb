{
 "cells": [
  {
   "cell_type": "code",
   "execution_count": 1,
   "id": "82a57f2d-7c5d-4b7a-bb51-22352e70be0e",
   "metadata": {},
   "outputs": [],
   "source": [
    "import numpy as np\n",
    "import random"
   ]
  },
  {
   "cell_type": "code",
   "execution_count": 2,
   "id": "c8f94fc3-b047-458d-b942-4b9aab90ec17",
   "metadata": {},
   "outputs": [],
   "source": [
    "class NeuralNetwork:\n",
    "    def __init__(self, learning_rate=0.1):\n",
    "        self.inodes = 2\n",
    "        self.hnodes = 2\n",
    "        self.onodes = 1\n",
    "        self.lr = learning_rate\n",
    "        self.wih = np.random.normal(\n",
    "            0.0, pow(self.inodes, -0.5), (self.hnodes, self.inodes)\n",
    "        )\n",
    "        self.who = np.random.normal(\n",
    "            0.0, pow(self.inodes, -0.5), (self.onodes, self.hnodes)\n",
    "        )\n",
    "\n",
    "    def forward(self, inputs_list):\n",
    "        i = np.array(inputs_list, ndmin=2).T\n",
    "\n",
    "        hi = np.dot(self.wih, i)\n",
    "        ho = self.sigmoid(hi)\n",
    "\n",
    "        fi = np.dot(self.who, ho)\n",
    "        fo = self.sigmoid(fi)\n",
    "\n",
    "        return i, ho, fo\n",
    "\n",
    "    def train(self, inputs_list, target):\n",
    "        i, ho, fo = self.forward(inputs_list)\n",
    "        \n",
    "        output_error = target - fo\n",
    "        hidden_error = np.dot(self.who.T, output_error * fo * (1 - fo))\n",
    "\n",
    "        self.who += self.lr * np.outer(output_error * fo * (1 - fo), ho)\n",
    "        self.wih += self.lr * np.outer(hidden_error * ho * (1 - ho), i)\n",
    "\n",
    "    def sigmoid(self, x):\n",
    "        return 1 / (1 + np.exp(-x))"
   ]
  },
  {
   "cell_type": "code",
   "execution_count": 3,
   "id": "bf906432-df8d-43bc-a900-56cecd645655",
   "metadata": {},
   "outputs": [],
   "source": [
    "nn = NeuralNetwork()"
   ]
  },
  {
   "cell_type": "code",
   "execution_count": 4,
   "id": "83643467-9105-4706-a86f-3f99cabc8f16",
   "metadata": {},
   "outputs": [],
   "source": [
    "def generate_xor_data():\n",
    "    p, q = random.randint(0, 1), random.randint(0, 1)\n",
    "    res = float(p^q)\n",
    "    p, q = float(p), float(q)\n",
    "    if p == 0:\n",
    "        p += 0.01\n",
    "    if q == 0:\n",
    "        q += 0.01\n",
    "    return [p, q], res"
   ]
  },
  {
   "cell_type": "code",
   "execution_count": 5,
   "id": "549185e0-9eef-4c8e-80d0-8d08fd08627d",
   "metadata": {},
   "outputs": [],
   "source": [
    "examples_per_epoch = 100000\n",
    "epochs = 100\n",
    "\n",
    "for _ in range(epochs):\n",
    "    for _ in range(examples_per_epoch):\n",
    "        i, o = generate_xor_data()\n",
    "        nn.train(i, o)"
   ]
  },
  {
   "cell_type": "code",
   "execution_count": 6,
   "id": "3c64c558-6d43-4504-aa7d-501a0d4286ba",
   "metadata": {},
   "outputs": [
    {
     "name": "stdout",
     "output_type": "stream",
     "text": [
      "[0, 0]\n",
      "[[0.00126628]]\n",
      "[0, 1]\n",
      "[[0.93218437]]\n",
      "[1, 0]\n",
      "[[0.93002106]]\n",
      "[1, 1]\n",
      "[[0.52766135]]\n"
     ]
    }
   ],
   "source": [
    "for ex in [[0, 0], [0, 1], [1, 0], [1,1]]:\n",
    "    print(ex)\n",
    "    _, _, output = nn.forward(ex)\n",
    "    print(output)"
   ]
  }
 ],
 "metadata": {
  "kernelspec": {
   "display_name": "Python 3 (ipykernel)",
   "language": "python",
   "name": "python3"
  },
  "language_info": {
   "codemirror_mode": {
    "name": "ipython",
    "version": 3
   },
   "file_extension": ".py",
   "mimetype": "text/x-python",
   "name": "python",
   "nbconvert_exporter": "python",
   "pygments_lexer": "ipython3",
   "version": "3.12.3"
  }
 },
 "nbformat": 4,
 "nbformat_minor": 5
}
